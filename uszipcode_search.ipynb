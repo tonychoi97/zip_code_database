{
 "cells": [
  {
   "cell_type": "markdown",
   "metadata": {},
   "source": [
    "Before running, set sqlalchemy_mate version to 2.0.0.0\n",
    "\n",
    "Copy inbetween the apostrophes and paste into your PowerShell: 'pip install sqlalchemy_mate==2.0.0.0'\n",
    "\n",
    "https://uszipcode.readthedocs.io/#id7 - uszipcode documentation page"
   ]
  },
  {
   "cell_type": "markdown",
   "metadata": {},
   "source": [
    "# All Functions (Run this before playing with main)"
   ]
  },
  {
   "cell_type": "markdown",
   "metadata": {},
   "source": [
    "## Libraries"
   ]
  },
  {
   "cell_type": "code",
   "execution_count": 135,
   "metadata": {},
   "outputs": [],
   "source": [
    "from uszipcode import SearchEngine\n",
    "import pandas as pd"
   ]
  },
  {
   "cell_type": "markdown",
   "metadata": {},
   "source": [
    "## Zip codes by radius."
   ]
  },
  {
   "cell_type": "code",
   "execution_count": 136,
   "metadata": {},
   "outputs": [],
   "source": [
    "def zipcodesRadiusInput():\n",
    "    while True:\n",
    "        try:     \n",
    "            z = int(input(\"Enter the 5-digit US zip code you would like to search from: \"))\n",
    "        except Exception:\n",
    "            print(\"Please enter a 5-digit integer.\")\n",
    "        else:\n",
    "            if (z <= 0 or z > 99999):\n",
    "                print(\"Nope\")\n",
    "            else:\n",
    "                break\n",
    "    while True:\n",
    "        try:\n",
    "            r = int(input(\"Within how many mile radius would you like to search by. Please enter a distance greater than 0 and less than 1000: \"))\n",
    "        except Exception:\n",
    "            print(\"Please enter a distance greater than 0 and less than 1000.\")\n",
    "        else:\n",
    "            if (r <= 0 or r > 999):\n",
    "                print(\"Nope\")\n",
    "            else:\n",
    "                break\n",
    "    return z, r\n",
    "\n",
    "def find_zipcodes_within_radius(zip_code, radius): \n",
    "    search = SearchEngine()\n",
    "\n",
    "    zipcode_obj = search.by_zipcode(zip_code)\n",
    "    \n",
    "    if zipcode_obj:\n",
    "        zipcodes_in_radius = search.by_coordinates(zipcode_obj.lat, zipcode_obj.lng, radius = radius, returns = 0)\n",
    "        \n",
    "        zipcodeDict = dict()\n",
    "        zipcodeDict['Zip Code'] = [zipcode.zipcode for zipcode in zipcodes_in_radius]\n",
    "        zipcodeDict['Zip Code Type'] = [zipcode.zipcode_type for zipcode in zipcodes_in_radius]\n",
    "        zipcodeDict['Major City'] = [zipcode.major_city for zipcode in zipcodes_in_radius]\n",
    "        zipcodeDict['Post Office City'] = [zipcode.post_office_city for zipcode in zipcodes_in_radius]\n",
    "        zipcodeDict['Common City'] = [zipcode.common_city_list for zipcode in zipcodes_in_radius]\n",
    "        zipcodeDict['County'] = [zipcode.county for zipcode in zipcodes_in_radius]\n",
    "        zipcodeDict['State'] = [zipcode.state for zipcode in zipcodes_in_radius]\n",
    "        zipcodeDict['Area Code List'] = [zipcode.area_code_list for zipcode in zipcodes_in_radius]\n",
    "        return zipcodeDict\n",
    "    \n",
    "    else:\n",
    "        return []"
   ]
  },
  {
   "cell_type": "markdown",
   "metadata": {},
   "source": [
    "## Zip Codes by City AND State."
   ]
  },
  {
   "cell_type": "code",
   "execution_count": 137,
   "metadata": {},
   "outputs": [],
   "source": [
    "def zipcodesCityStateInput():\n",
    "    while True:\n",
    "        try:     \n",
    "            c = str(input(\"Enter the US City you would like to search by: \"))\n",
    "        except Exception:\n",
    "            print(\"Please enter a valid State string value.\")\n",
    "        else:\n",
    "            break\n",
    "\n",
    "    while True:\n",
    "        try:\n",
    "            s = str(input(\"Enter the US State the city is in: \"))\n",
    "        except Exception:\n",
    "            print(\"Please enter a valid State string value or abbreviation.\")\n",
    "        else:\n",
    "            break\n",
    "\n",
    "    return c, s\n",
    "\n",
    "def find_zipcodes_from_city_and_state(city, state):\n",
    "    while True:\n",
    "        try:\n",
    "            search = SearchEngine()\n",
    "            city_state_obj = search.by_city_and_state(city, state)\n",
    "        except ValueError as error_msg:\n",
    "            print(error_msg)\n",
    "            return []\n",
    "        else:\n",
    "            if city_state_obj:\n",
    "                zipcodeDict = dict()\n",
    "                zipcodeDict['Zip Code'] = [zipcode.zipcode for zipcode in city_state_obj]\n",
    "                zipcodeDict['Zip Code Type'] = [zipcode.zipcode_type for zipcode in city_state_obj]\n",
    "                zipcodeDict['Major City'] = [zipcode.major_city for zipcode in city_state_obj]\n",
    "                zipcodeDict['Post Office City'] = [zipcode.post_office_city for zipcode in city_state_obj]\n",
    "                zipcodeDict['Common City'] = [zipcode.common_city_list for zipcode in city_state_obj]\n",
    "                zipcodeDict['County'] = [zipcode.county for zipcode in city_state_obj]\n",
    "                zipcodeDict['State'] = [zipcode.state for zipcode in city_state_obj]\n",
    "                zipcodeDict['Area Code List'] = [zipcode.area_code_list for zipcode in city_state_obj]\n",
    "                return zipcodeDict\n",
    "    \n",
    "            else:\n",
    "                return []"
   ]
  },
  {
   "cell_type": "markdown",
   "metadata": {},
   "source": [
    "## Zip codes by State"
   ]
  },
  {
   "cell_type": "code",
   "execution_count": 138,
   "metadata": {},
   "outputs": [],
   "source": [
    "def zipcodesStateInput():\n",
    "    while True:\n",
    "        try:\n",
    "            s = str(input(\"Enter the US State you would like to search by: \"))\n",
    "        except Exception:\n",
    "            print(\"Please enter a valid State string value.\")\n",
    "        else:\n",
    "            break\n",
    "    return s\n",
    "\n",
    "def find_zip_codes_from_state(state):\n",
    "    while True:\n",
    "        try:\n",
    "            search = SearchEngine()\n",
    "            state_obj = search.by_state(state, returns = -1)\n",
    "        except ValueError as error_msg:\n",
    "            print(error_msg)\n",
    "            return []\n",
    "        else:\n",
    "            if state_obj:\n",
    "                zipcodeDict = dict()\n",
    "                zipcodeDict['Zip Code'] = [zipcode.zipcode for zipcode in state_obj]\n",
    "                zipcodeDict['Zip Code Type'] = [zipcode.zipcode_type for zipcode in state_obj]\n",
    "                zipcodeDict['Major City'] = [zipcode.major_city for zipcode in state_obj]\n",
    "                zipcodeDict['Post Office City'] = [zipcode.post_office_city for zipcode in state_obj]\n",
    "                zipcodeDict['Common City'] = [zipcode.common_city_list for zipcode in state_obj]\n",
    "                zipcodeDict['County'] = [zipcode.county for zipcode in state_obj]\n",
    "                zipcodeDict['State'] = [zipcode.state for zipcode in state_obj]\n",
    "                zipcodeDict['Area Code List'] = [zipcode.area_code_list for zipcode in state_obj]\n",
    "                return zipcodeDict\n",
    "    \n",
    "            else:\n",
    "                return []  "
   ]
  },
  {
   "cell_type": "markdown",
   "metadata": {},
   "source": [
    "## Dataframe related functions."
   ]
  },
  {
   "cell_type": "code",
   "execution_count": 139,
   "metadata": {},
   "outputs": [],
   "source": [
    "# Transforms dictionary stored values into a pandas dataframe.            \n",
    "def send_to_dataframe(d):\n",
    "    dataframe = pd.DataFrame.from_dict(d)\n",
    "    display(dataframe)\n",
    "    return dataframe"
   ]
  },
  {
   "cell_type": "code",
   "execution_count": 140,
   "metadata": {},
   "outputs": [],
   "source": [
    "# Sending dataframe to a csv file.\n",
    "def send_to_csv(dataframe):\n",
    "    dataframe.to_csv('zipcodelist_export.csv', header = True, index = False)\n",
    "    print(\"Your file has been created. Program is now exiting.\")  "
   ]
  },
  {
   "cell_type": "markdown",
   "metadata": {},
   "source": [
    "# Main"
   ]
  },
  {
   "cell_type": "markdown",
   "metadata": {},
   "source": [
    "## Search all ZIP codes in a radius."
   ]
  },
  {
   "cell_type": "code",
   "execution_count": null,
   "metadata": {},
   "outputs": [],
   "source": [
    "radius_zips, radius = zipcodesRadiusInput()\n",
    "radius_zips_return = find_zipcodes_within_radius(radius_zips, radius)\n",
    "\n",
    "df1 = send_to_dataframe(radius_zips_return)\n",
    "\n",
    "send_to_csv(df1)"
   ]
  },
  {
   "cell_type": "markdown",
   "metadata": {},
   "source": [
    "## Search all ZIP codes by city and state."
   ]
  },
  {
   "cell_type": "code",
   "execution_count": null,
   "metadata": {},
   "outputs": [],
   "source": [
    "cityInput, stateInput = zipcodesCityStateInput()\n",
    "city_state_zips = find_zipcodes_from_city_and_state(cityInput, stateInput)\n",
    "\n",
    "df2 = send_to_dataframe(city_state_zips)\n",
    "\n",
    "send_to_csv(df2)"
   ]
  },
  {
   "cell_type": "markdown",
   "metadata": {},
   "source": [
    "## Search all ZIP codes by state."
   ]
  },
  {
   "cell_type": "code",
   "execution_count": 141,
   "metadata": {},
   "outputs": [
    {
     "data": {
      "text/html": [
       "<div>\n",
       "<style scoped>\n",
       "    .dataframe tbody tr th:only-of-type {\n",
       "        vertical-align: middle;\n",
       "    }\n",
       "\n",
       "    .dataframe tbody tr th {\n",
       "        vertical-align: top;\n",
       "    }\n",
       "\n",
       "    .dataframe thead th {\n",
       "        text-align: right;\n",
       "    }\n",
       "</style>\n",
       "<table border=\"1\" class=\"dataframe\">\n",
       "  <thead>\n",
       "    <tr style=\"text-align: right;\">\n",
       "      <th></th>\n",
       "      <th>Zip Code</th>\n",
       "      <th>Zip Code Type</th>\n",
       "      <th>Major City</th>\n",
       "      <th>Post Office City</th>\n",
       "      <th>Common City</th>\n",
       "      <th>County</th>\n",
       "      <th>State</th>\n",
       "      <th>Area Code List</th>\n",
       "    </tr>\n",
       "  </thead>\n",
       "  <tbody>\n",
       "    <tr>\n",
       "      <th>0</th>\n",
       "      <td>10001</td>\n",
       "      <td>STANDARD</td>\n",
       "      <td>New York</td>\n",
       "      <td>New York, NY</td>\n",
       "      <td>[New York]</td>\n",
       "      <td>New York County</td>\n",
       "      <td>NY</td>\n",
       "      <td>718,917,347,646</td>\n",
       "    </tr>\n",
       "    <tr>\n",
       "      <th>1</th>\n",
       "      <td>10002</td>\n",
       "      <td>STANDARD</td>\n",
       "      <td>New York</td>\n",
       "      <td>New York, NY</td>\n",
       "      <td>[New York, Knickerbocker]</td>\n",
       "      <td>New York County</td>\n",
       "      <td>NY</td>\n",
       "      <td>718</td>\n",
       "    </tr>\n",
       "    <tr>\n",
       "      <th>2</th>\n",
       "      <td>10003</td>\n",
       "      <td>STANDARD</td>\n",
       "      <td>New York</td>\n",
       "      <td>New York, NY</td>\n",
       "      <td>[New York]</td>\n",
       "      <td>New York County</td>\n",
       "      <td>NY</td>\n",
       "      <td>212,347,646,718,917</td>\n",
       "    </tr>\n",
       "    <tr>\n",
       "      <th>3</th>\n",
       "      <td>10004</td>\n",
       "      <td>STANDARD</td>\n",
       "      <td>New York</td>\n",
       "      <td>New York, NY</td>\n",
       "      <td>[New York, Bowling Green]</td>\n",
       "      <td>New York County</td>\n",
       "      <td>NY</td>\n",
       "      <td>212,347,646,718,917</td>\n",
       "    </tr>\n",
       "    <tr>\n",
       "      <th>4</th>\n",
       "      <td>10005</td>\n",
       "      <td>STANDARD</td>\n",
       "      <td>New York</td>\n",
       "      <td>New York, NY</td>\n",
       "      <td>[New York, Wall Street]</td>\n",
       "      <td>New York County</td>\n",
       "      <td>NY</td>\n",
       "      <td>347,718,212,646,917</td>\n",
       "    </tr>\n",
       "    <tr>\n",
       "      <th>...</th>\n",
       "      <td>...</td>\n",
       "      <td>...</td>\n",
       "      <td>...</td>\n",
       "      <td>...</td>\n",
       "      <td>...</td>\n",
       "      <td>...</td>\n",
       "      <td>...</td>\n",
       "      <td>...</td>\n",
       "    </tr>\n",
       "    <tr>\n",
       "      <th>1663</th>\n",
       "      <td>14901</td>\n",
       "      <td>STANDARD</td>\n",
       "      <td>Elmira</td>\n",
       "      <td>Elmira, NY</td>\n",
       "      <td>[Elmira]</td>\n",
       "      <td>Chemung County</td>\n",
       "      <td>NY</td>\n",
       "      <td>607</td>\n",
       "    </tr>\n",
       "    <tr>\n",
       "      <th>1664</th>\n",
       "      <td>14903</td>\n",
       "      <td>STANDARD</td>\n",
       "      <td>Elmira</td>\n",
       "      <td>Elmira, NY</td>\n",
       "      <td>[Elmira, Elmira Heights, Elmira Hgts, Elmira Hts]</td>\n",
       "      <td>Chemung County</td>\n",
       "      <td>NY</td>\n",
       "      <td>607</td>\n",
       "    </tr>\n",
       "    <tr>\n",
       "      <th>1665</th>\n",
       "      <td>14904</td>\n",
       "      <td>STANDARD</td>\n",
       "      <td>Elmira</td>\n",
       "      <td>Elmira, NY</td>\n",
       "      <td>[Elmira]</td>\n",
       "      <td>Chemung County</td>\n",
       "      <td>NY</td>\n",
       "      <td>607</td>\n",
       "    </tr>\n",
       "    <tr>\n",
       "      <th>1666</th>\n",
       "      <td>14905</td>\n",
       "      <td>STANDARD</td>\n",
       "      <td>Elmira</td>\n",
       "      <td>Elmira, NY</td>\n",
       "      <td>[Elmira]</td>\n",
       "      <td>Chemung County</td>\n",
       "      <td>NY</td>\n",
       "      <td>607</td>\n",
       "    </tr>\n",
       "    <tr>\n",
       "      <th>1667</th>\n",
       "      <td>14925</td>\n",
       "      <td>STANDARD</td>\n",
       "      <td>Elmira</td>\n",
       "      <td>None</td>\n",
       "      <td>[Elmira]</td>\n",
       "      <td>Chemung County</td>\n",
       "      <td>NY</td>\n",
       "      <td>607</td>\n",
       "    </tr>\n",
       "  </tbody>\n",
       "</table>\n",
       "<p>1668 rows × 8 columns</p>\n",
       "</div>"
      ],
      "text/plain": [
       "     Zip Code Zip Code Type Major City Post Office City  \\\n",
       "0       10001      STANDARD   New York     New York, NY   \n",
       "1       10002      STANDARD   New York     New York, NY   \n",
       "2       10003      STANDARD   New York     New York, NY   \n",
       "3       10004      STANDARD   New York     New York, NY   \n",
       "4       10005      STANDARD   New York     New York, NY   \n",
       "...       ...           ...        ...              ...   \n",
       "1663    14901      STANDARD     Elmira       Elmira, NY   \n",
       "1664    14903      STANDARD     Elmira       Elmira, NY   \n",
       "1665    14904      STANDARD     Elmira       Elmira, NY   \n",
       "1666    14905      STANDARD     Elmira       Elmira, NY   \n",
       "1667    14925      STANDARD     Elmira             None   \n",
       "\n",
       "                                            Common City           County  \\\n",
       "0                                            [New York]  New York County   \n",
       "1                             [New York, Knickerbocker]  New York County   \n",
       "2                                            [New York]  New York County   \n",
       "3                             [New York, Bowling Green]  New York County   \n",
       "4                               [New York, Wall Street]  New York County   \n",
       "...                                                 ...              ...   \n",
       "1663                                           [Elmira]   Chemung County   \n",
       "1664  [Elmira, Elmira Heights, Elmira Hgts, Elmira Hts]   Chemung County   \n",
       "1665                                           [Elmira]   Chemung County   \n",
       "1666                                           [Elmira]   Chemung County   \n",
       "1667                                           [Elmira]   Chemung County   \n",
       "\n",
       "     State       Area Code List  \n",
       "0       NY      718,917,347,646  \n",
       "1       NY                  718  \n",
       "2       NY  212,347,646,718,917  \n",
       "3       NY  212,347,646,718,917  \n",
       "4       NY  347,718,212,646,917  \n",
       "...    ...                  ...  \n",
       "1663    NY                  607  \n",
       "1664    NY                  607  \n",
       "1665    NY                  607  \n",
       "1666    NY                  607  \n",
       "1667    NY                  607  \n",
       "\n",
       "[1668 rows x 8 columns]"
      ]
     },
     "metadata": {},
     "output_type": "display_data"
    },
    {
     "name": "stdout",
     "output_type": "stream",
     "text": [
      "Your file has been created. Program is now exiting.\n"
     ]
    }
   ],
   "source": [
    "stateOnlyInput = zipcodesStateInput()\n",
    "state_zips = find_zip_codes_from_state(stateOnlyInput)\n",
    "\n",
    "df3 = send_to_dataframe(state_zips)\n",
    "\n",
    "send_to_csv(df3)"
   ]
  }
 ],
 "metadata": {
  "kernelspec": {
   "display_name": "Python 3",
   "language": "python",
   "name": "python3"
  },
  "language_info": {
   "codemirror_mode": {
    "name": "ipython",
    "version": 3
   },
   "file_extension": ".py",
   "mimetype": "text/x-python",
   "name": "python",
   "nbconvert_exporter": "python",
   "pygments_lexer": "ipython3",
   "version": "3.12.5"
  }
 },
 "nbformat": 4,
 "nbformat_minor": 2
}
